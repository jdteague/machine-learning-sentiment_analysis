{
 "cells": [
  {
   "cell_type": "markdown",
   "metadata": {
    "id": "DXIQF0HH5g54"
   },
   "source": [
    "# Machine Learning Final Project Clustering Tool\n",
    "By Shaun Guyette, Austin Monroe, and Jarod Teague"
   ]
  },
  {
   "cell_type": "code",
   "execution_count": 1,
   "metadata": {
    "colab": {
     "base_uri": "https://localhost:8080/",
     "height": 573
    },
    "executionInfo": {
     "elapsed": 351,
     "status": "ok",
     "timestamp": 1638909777416,
     "user": {
      "displayName": "Shaun Guyette",
      "photoUrl": "https://lh3.googleusercontent.com/a/default-user=s64",
      "userId": "10370106309607372539"
     },
     "user_tz": 360
    },
    "id": "-i34NXAB5bkb",
    "outputId": "0acf2d8b-0a90-44cd-cd31-2ddd43b89ea7"
   },
   "outputs": [
    {
     "data": {
      "text/html": [
       "<div>\n",
       "<style scoped>\n",
       "    .dataframe tbody tr th:only-of-type {\n",
       "        vertical-align: middle;\n",
       "    }\n",
       "\n",
       "    .dataframe tbody tr th {\n",
       "        vertical-align: top;\n",
       "    }\n",
       "\n",
       "    .dataframe thead th {\n",
       "        text-align: right;\n",
       "    }\n",
       "</style>\n",
       "<table border=\"1\" class=\"dataframe\">\n",
       "  <thead>\n",
       "    <tr style=\"text-align: right;\">\n",
       "      <th></th>\n",
       "      <th>tweet_id</th>\n",
       "      <th>airline_sentiment</th>\n",
       "      <th>airline_sentiment_confidence</th>\n",
       "      <th>negativereason</th>\n",
       "      <th>negativereason_confidence</th>\n",
       "      <th>airline</th>\n",
       "      <th>airline_sentiment_gold</th>\n",
       "      <th>name</th>\n",
       "      <th>negativereason_gold</th>\n",
       "      <th>retweet_count</th>\n",
       "      <th>text</th>\n",
       "      <th>tweet_coord</th>\n",
       "      <th>tweet_created</th>\n",
       "      <th>tweet_location</th>\n",
       "      <th>user_timezone</th>\n",
       "    </tr>\n",
       "  </thead>\n",
       "  <tbody>\n",
       "    <tr>\n",
       "      <th>6746</th>\n",
       "      <td>570309345281486848</td>\n",
       "      <td>positive</td>\n",
       "      <td>0.6469</td>\n",
       "      <td>NaN</td>\n",
       "      <td>NaN</td>\n",
       "      <td>Delta</td>\n",
       "      <td>NaN</td>\n",
       "      <td>jaxbra</td>\n",
       "      <td>NaN</td>\n",
       "      <td>0</td>\n",
       "      <td>@JetBlue Yesterday on my way from EWR to FLL j...</td>\n",
       "      <td>NaN</td>\n",
       "      <td>2015-02-24 11:48:38 -0800</td>\n",
       "      <td>east brunswick, nj</td>\n",
       "      <td>Atlantic Time (Canada)</td>\n",
       "    </tr>\n",
       "    <tr>\n",
       "      <th>6747</th>\n",
       "      <td>570309308937842688</td>\n",
       "      <td>neutral</td>\n",
       "      <td>0.6869</td>\n",
       "      <td>NaN</td>\n",
       "      <td>NaN</td>\n",
       "      <td>Delta</td>\n",
       "      <td>NaN</td>\n",
       "      <td>Oneladyyouadore</td>\n",
       "      <td>NaN</td>\n",
       "      <td>0</td>\n",
       "      <td>@JetBlue I hope so because I fly very often an...</td>\n",
       "      <td>NaN</td>\n",
       "      <td>2015-02-24 11:48:29 -0800</td>\n",
       "      <td>Georgia</td>\n",
       "      <td>Quito</td>\n",
       "    </tr>\n",
       "    <tr>\n",
       "      <th>6748</th>\n",
       "      <td>570308513181904901</td>\n",
       "      <td>neutral</td>\n",
       "      <td>1.0000</td>\n",
       "      <td>NaN</td>\n",
       "      <td>NaN</td>\n",
       "      <td>Delta</td>\n",
       "      <td>NaN</td>\n",
       "      <td>Oneladyyouadore</td>\n",
       "      <td>NaN</td>\n",
       "      <td>0</td>\n",
       "      <td>@JetBlue flight 1041 to Savannah, GA</td>\n",
       "      <td>NaN</td>\n",
       "      <td>2015-02-24 11:45:20 -0800</td>\n",
       "      <td>Georgia</td>\n",
       "      <td>Quito</td>\n",
       "    </tr>\n",
       "    <tr>\n",
       "      <th>6749</th>\n",
       "      <td>570307820962373632</td>\n",
       "      <td>negative</td>\n",
       "      <td>1.0000</td>\n",
       "      <td>Flight Attendant Complaints</td>\n",
       "      <td>0.6522</td>\n",
       "      <td>Delta</td>\n",
       "      <td>NaN</td>\n",
       "      <td>Oneladyyouadore</td>\n",
       "      <td>NaN</td>\n",
       "      <td>0</td>\n",
       "      <td>@JetBlue They weren't on any flight, they just...</td>\n",
       "      <td>NaN</td>\n",
       "      <td>2015-02-24 11:42:34 -0800</td>\n",
       "      <td>Georgia</td>\n",
       "      <td>Quito</td>\n",
       "    </tr>\n",
       "    <tr>\n",
       "      <th>6750</th>\n",
       "      <td>570305363859406848</td>\n",
       "      <td>negative</td>\n",
       "      <td>1.0000</td>\n",
       "      <td>Bad Flight</td>\n",
       "      <td>1.0000</td>\n",
       "      <td>Delta</td>\n",
       "      <td>NaN</td>\n",
       "      <td>Oneladyyouadore</td>\n",
       "      <td>NaN</td>\n",
       "      <td>0</td>\n",
       "      <td>@JetBlue everyone is here but our pilots are n...</td>\n",
       "      <td>NaN</td>\n",
       "      <td>2015-02-24 11:32:49 -0800</td>\n",
       "      <td>Georgia</td>\n",
       "      <td>Quito</td>\n",
       "    </tr>\n",
       "  </tbody>\n",
       "</table>\n",
       "</div>"
      ],
      "text/plain": [
       "                tweet_id airline_sentiment  airline_sentiment_confidence  \\\n",
       "6746  570309345281486848          positive                        0.6469   \n",
       "6747  570309308937842688           neutral                        0.6869   \n",
       "6748  570308513181904901           neutral                        1.0000   \n",
       "6749  570307820962373632          negative                        1.0000   \n",
       "6750  570305363859406848          negative                        1.0000   \n",
       "\n",
       "                   negativereason  negativereason_confidence airline  \\\n",
       "6746                          NaN                        NaN   Delta   \n",
       "6747                          NaN                        NaN   Delta   \n",
       "6748                          NaN                        NaN   Delta   \n",
       "6749  Flight Attendant Complaints                     0.6522   Delta   \n",
       "6750                   Bad Flight                     1.0000   Delta   \n",
       "\n",
       "     airline_sentiment_gold             name negativereason_gold  \\\n",
       "6746                    NaN           jaxbra                 NaN   \n",
       "6747                    NaN  Oneladyyouadore                 NaN   \n",
       "6748                    NaN  Oneladyyouadore                 NaN   \n",
       "6749                    NaN  Oneladyyouadore                 NaN   \n",
       "6750                    NaN  Oneladyyouadore                 NaN   \n",
       "\n",
       "      retweet_count                                               text  \\\n",
       "6746              0  @JetBlue Yesterday on my way from EWR to FLL j...   \n",
       "6747              0  @JetBlue I hope so because I fly very often an...   \n",
       "6748              0               @JetBlue flight 1041 to Savannah, GA   \n",
       "6749              0  @JetBlue They weren't on any flight, they just...   \n",
       "6750              0  @JetBlue everyone is here but our pilots are n...   \n",
       "\n",
       "     tweet_coord              tweet_created      tweet_location  \\\n",
       "6746         NaN  2015-02-24 11:48:38 -0800  east brunswick, nj   \n",
       "6747         NaN  2015-02-24 11:48:29 -0800             Georgia   \n",
       "6748         NaN  2015-02-24 11:45:20 -0800             Georgia   \n",
       "6749         NaN  2015-02-24 11:42:34 -0800             Georgia   \n",
       "6750         NaN  2015-02-24 11:32:49 -0800             Georgia   \n",
       "\n",
       "               user_timezone  \n",
       "6746  Atlantic Time (Canada)  \n",
       "6747                   Quito  \n",
       "6748                   Quito  \n",
       "6749                   Quito  \n",
       "6750                   Quito  "
      ]
     },
     "execution_count": 1,
     "metadata": {},
     "output_type": "execute_result"
    }
   ],
   "source": [
    "import nltk\n",
    "import pandas as pd\n",
    "from sklearn import preprocessing\n",
    "\n",
    "# from google.colab import files\n",
    "# uploaded = files.upload() # uncomment if need to upload file\n",
    "tweet_data = pd.read_csv(\"Tweets.csv\")\n",
    "delta_tweets = tweet_data[tweet_data['airline'] == 'Delta']\n",
    "delta_tweets.head()"
   ]
  },
  {
   "cell_type": "code",
   "execution_count": 2,
   "metadata": {
    "colab": {
     "base_uri": "https://localhost:8080/"
    },
    "executionInfo": {
     "elapsed": 354,
     "status": "ok",
     "timestamp": 1638914004773,
     "user": {
      "displayName": "Shaun Guyette",
      "photoUrl": "https://lh3.googleusercontent.com/a/default-user=s64",
      "userId": "10370106309607372539"
     },
     "user_tz": 360
    },
    "id": "eggzvH5i-a_s",
    "outputId": "4f2b24f6-e6ea-4837-be3c-0f56e6e17038"
   },
   "outputs": [
    {
     "name": "stderr",
     "output_type": "stream",
     "text": [
      "[nltk_data] Downloading package stopwords to\n",
      "[nltk_data]     C:\\Users\\jarod\\AppData\\Roaming\\nltk_data...\n",
      "[nltk_data]   Package stopwords is already up-to-date!\n",
      "<ipython-input-2-1547b48b3a37>:14: DeprecationWarning: `np.float` is a deprecated alias for the builtin `float`. To silence this warning, use `float` by itself. Doing this will not modify any behavior and is safe. If you specifically wanted the numpy scalar type, use `np.float64` here.\n",
      "Deprecated in NumPy 1.20; for more details and guidance: https://numpy.org/devdocs/release/1.20.0-notes.html#deprecations\n",
      "  if type(tweet) == np.float:\n"
     ]
    }
   ],
   "source": [
    "import re\n",
    "import numpy as np\n",
    "import nltk\n",
    "nltk.download('stopwords')\n",
    "from nltk.corpus import stopwords\n",
    "from nltk.stem import PorterStemmer\n",
    "\n",
    "tweets_x = delta_tweets['text']\n",
    "\n",
    "stop_words = set(stopwords.words('english'))\n",
    "ps = PorterStemmer()\n",
    "\n",
    "def clean_tweet(tweet):\n",
    "    if type(tweet) == np.float:\n",
    "        return \"\"\n",
    "    temp = tweet.lower()\n",
    "    temp = re.sub(\"'\", \"\", temp) # to avoid removing contractions in english\n",
    "    temp = re.sub(\"@[A-Za-z0-9_]+\",\"\", temp)\n",
    "    temp = re.sub(\"#[A-Za-z0-9_]+\",\"\", temp)\n",
    "    temp = re.sub(r'http\\S+', '', temp)\n",
    "    temp = re.sub('[()!?]', ' ', temp)\n",
    "    temp = re.sub('\\[.*?\\]',' ', temp)\n",
    "    temp = re.sub(\"[^a-z0-9]\",\" \", temp)\n",
    "    temp = temp.split()\n",
    "    temp = [w for w in temp if not w in stop_words]\n",
    "    temp = [ps.stem(w) for w in temp]\n",
    "    temp = \" \".join(word for word in temp)\n",
    "    return temp\n",
    "\n",
    "tweets_x = [clean_tweet(tw) for tw in tweets_x]"
   ]
  },
  {
   "cell_type": "code",
   "execution_count": 3,
   "metadata": {
    "id": "AgrDce9LKAAj"
   },
   "outputs": [],
   "source": [
    "# import and use CountVectorizer\n",
    "from sklearn.feature_extraction.text import CountVectorizer\n",
    "from sklearn.feature_extraction.text import TfidfVectorizer\n",
    "\n",
    "count_vect = CountVectorizer()\n",
    "X_train_counts = count_vect.fit_transform(tweets_x)\n",
    "\n",
    "tfidf_vect = TfidfVectorizer()\n",
    "X_train_tfidf = tfidf_vect.fit_transform(tweets_x)"
   ]
  },
  {
   "cell_type": "code",
   "execution_count": 4,
   "metadata": {
    "id": "knWROxWdmh97"
   },
   "outputs": [],
   "source": [
    "from sklearn.cluster import KMeans\n",
    "wcss = [] \n",
    "for i in range(1,11):\n",
    "    kmeans = KMeans(n_clusters = i, init = 'k-means++', random_state = 42)\n",
    "    kmeans.fit(X_train_counts)\n",
    "    wcss.append(kmeans.inertia_)"
   ]
  },
  {
   "cell_type": "code",
   "execution_count": 5,
   "metadata": {
    "colab": {
     "base_uri": "https://localhost:8080/",
     "height": 280
    },
    "executionInfo": {
     "elapsed": 554,
     "status": "ok",
     "timestamp": 1638914016978,
     "user": {
      "displayName": "Shaun Guyette",
      "photoUrl": "https://lh3.googleusercontent.com/a/default-user=s64",
      "userId": "10370106309607372539"
     },
     "user_tz": 360
    },
    "id": "q4NKW_jTnX-A",
    "outputId": "0a3ed4b3-af86-47f9-92ea-ed27da83c9f8"
   },
   "outputs": [
    {
     "data": {
      "image/png": "[encoded data removed]",
      "text/plain": [
       "<Figure size 432x288 with 1 Axes>"
      ]
     },
     "metadata": {
      "needs_background": "light"
     },
     "output_type": "display_data"
    }
   ],
   "source": [
    "import matplotlib.pyplot as plt\n",
    "plt.plot(range(1, 11), wcss)\n",
    "plt.xlabel('Number of Clusters')\n",
    "plt.ylabel('WCSS')\n",
    "plt.show()"
   ]
  },
  {
   "cell_type": "code",
   "execution_count": 6,
   "metadata": {
    "id": "aKzmGm72YeO9"
   },
   "outputs": [],
   "source": [
    "k = 5\n",
    "kmeans = KMeans(n_clusters = k, init = 'k-means++', random_state = 42)\n",
    "kmeans.fit(X_train_counts)\n",
    "\n",
    "\n",
    "cluster_map = pd.DataFrame()\n",
    "cluster_map['tweets'] = delta_tweets['text']\n",
    "cluster_map['sentiment'] = delta_tweets['airline_sentiment']\n",
    "cluster_map['cluster'] = kmeans.labels_"
   ]
  },
  {
   "cell_type": "code",
   "execution_count": 7,
   "metadata": {
    "colab": {
     "base_uri": "https://localhost:8080/",
     "height": 265
    },
    "executionInfo": {
     "elapsed": 1403,
     "status": "ok",
     "timestamp": 1638914032002,
     "user": {
      "displayName": "Shaun Guyette",
      "photoUrl": "https://lh3.googleusercontent.com/a/default-user=s64",
      "userId": "10370106309607372539"
     },
     "user_tz": 360
    },
    "id": "QqG01kf30jg1",
    "outputId": "7f29f64f-5b41-43ea-b77f-28e05fd4f490"
   },
   "outputs": [
    {
     "data": {
      "image/png": "[encoded data removed]",
      "text/plain": [
       "<Figure size 432x288 with 1 Axes>"
      ]
     },
     "metadata": {
      "needs_background": "light"
     },
     "output_type": "display_data"
    }
   ],
   "source": [
    "from sklearn.decomposition import PCA\n",
    "pca = PCA(n_components = 2, random_state = 42)\n",
    "reduced_features = pca.fit_transform(X_train_counts.toarray())\n",
    "reduced_cluster_centers = pca.transform(kmeans.cluster_centers_)\n",
    "\n",
    "plt.scatter(reduced_features[:,0], reduced_features[:,1], c=kmeans.predict(X_train_counts))\n",
    "plt.scatter(reduced_cluster_centers[:,0], reduced_cluster_centers[:,1], marker='x', s=150, c='b')\n",
    "plt.show()"
   ]
  },
  {
   "cell_type": "code",
   "execution_count": 8,
   "metadata": {
    "colab": {
     "base_uri": "https://localhost:8080/"
    },
    "executionInfo": {
     "elapsed": 349,
     "status": "ok",
     "timestamp": 1638914037239,
     "user": {
      "displayName": "Shaun Guyette",
      "photoUrl": "https://lh3.googleusercontent.com/a/default-user=s64",
      "userId": "10370106309607372539"
     },
     "user_tz": 360
    },
    "id": "IFlHMfmsgCDZ",
    "outputId": "ba71ad3d-51f9-4530-fc1a-86f7555db8a4"
   },
   "outputs": [
    {
     "name": "stdout",
     "output_type": "stream",
     "text": [
      "Cluster 1: \n",
      "negative, @JetBlue flying out of BUF 2 BOS, missing captain... Really? Delayed til 2:00... Not happy...\n",
      "negative, @JetBlue get me home! Flight 2016 from buf to Bos is missing a captain!? Really!?\n",
      "neutral, @JetBlue ...really?\n",
      "neutral, @JetBlue really caring??\n",
      "neutral, @JetBlue @BucketObolts Same\n",
      "neutral, @JetBlue or she ;)\n",
      "negative, @JetBlue is REALLY getting on my nerves !! 😡😡 #nothappy\n",
      "neutral, @JetBlue  will do.\n",
      "positive, Then you better #HoldOn - #EverythingsGonnaBeAlright @jetblue 4 our #brandloveaffair https://t.co/64kN6GEEP8 #TrueBlueLove #travel #business\n",
      "neutral, @JetBlue flight16?\n",
      "\n",
      "\n",
      "Cluster 2: \n",
      "negative, @JetBlue why is the buffalo flight so Late Flight?\n",
      "negative, @JetBlue Cancelled Flighted 😢\n",
      "positive, @JetBlue great flight http://t.co/E0R0NTO4TR\n",
      "neutral, @JetBlue flight 2008\n",
      "neutral, @JetBlue How do I know if my flight was deemed a dark flight?\n",
      "negative, @JetBlue delayed flight bummer\n",
      "negative, @JetBlue why are we delayed :( flight 1601\n",
      "negative, @JetBlue why did you just Cancelled Flight flight 670 last minute?!?\n",
      "neutral, @JetBlue when can we start Flight Booking Problems flights for November?\n",
      "positive, @JetBlue great smooth flight too! 👏👍\n",
      "\n",
      "\n",
      "Cluster 3: \n",
      "negative, @JetBlue Cancelled Flighted 😢\n",
      "positive, @JetBlue great flight http://t.co/E0R0NTO4TR\n",
      "neutral, @JetBlue or she ;)\n",
      "neutral, @JetBlue  will do.\n",
      "neutral, @JetBlue @BucketObolts Same\n",
      "neutral, @JetBlue flight 2008\n",
      "negative, @JetBlue why are we delayed :( flight 1601\n",
      "negative, @JetBlue delayed flight bummer\n",
      "positive, @JetBlue thanks!!\n",
      "positive, @JetBlue thanks!\n",
      "\n",
      "\n",
      "Cluster 4: \n",
      "neutral, @JetBlue or she ;)\n",
      "neutral, @JetBlue  will do.\n",
      "neutral, @JetBlue @BucketObolts Same\n",
      "positive, @JetBlue I will! Thank you!\n",
      "positive, @JetBlue thank you!!\n",
      "neutral, @JetBlue Thank you.\n",
      "positive, @JetBlue Thanks!\n",
      "positive, @JetBlue thanks!\n",
      "positive, @JetBlue thanks...\n",
      "positive, @JetBlue thanks!!\n",
      "\n",
      "\n",
      "Cluster 5: \n",
      "neutral, @JetBlue @BucketObolts Same\n",
      "neutral, @JetBlue or she ;)\n",
      "neutral, @JetBlue  will do.\n",
      "neutral, @JetBlue no m'good. Just get me home\n",
      "negative, @JetBlue is REALLY getting on my nerves !! 😡😡 #nothappy\n",
      "positive, @JetBlue Thanks!\n",
      "positive, @JetBlue thanks!\n",
      "positive, @JetBlue thanks!!\n",
      "positive, @JetBlue thanks...\n",
      "positive, @JetBlue thanks!\n",
      "\n",
      "\n"
     ]
    }
   ],
   "source": [
    "for i in range(0,k):\n",
    "    d = kmeans.transform(X_train_counts)[:, i]\n",
    "    ind = np.argsort(d)[::][:10]\n",
    "    # print(ind)\n",
    "    print(\"Cluster \" + str(i + 1) + \": \")\n",
    "    for j in range(0, 10):\n",
    "        print(delta_tweets.iloc[ind[j], 1] + \", \" + delta_tweets.iloc[ind[j], 10])\n",
    "    print(\"\\n\")"
   ]
  },
  {
   "cell_type": "code",
   "execution_count": 9,
   "metadata": {
    "id": "no3TnZUPqwFK"
   },
   "outputs": [],
   "source": [
    "wcss = [] \n",
    "for i in range(1,11):\n",
    "    kmeans = KMeans(n_clusters = i, init = 'k-means++', random_state = 42)\n",
    "    kmeans.fit(X_train_tfidf)\n",
    "    wcss.append(kmeans.inertia_)"
   ]
  },
  {
   "cell_type": "code",
   "execution_count": 10,
   "metadata": {
    "colab": {
     "base_uri": "https://localhost:8080/",
     "height": 279
    },
    "executionInfo": {
     "elapsed": 386,
     "status": "ok",
     "timestamp": 1638914060728,
     "user": {
      "displayName": "Shaun Guyette",
      "photoUrl": "https://lh3.googleusercontent.com/a/default-user=s64",
      "userId": "10370106309607372539"
     },
     "user_tz": 360
    },
    "id": "G9QKN5w2qwNW",
    "outputId": "5ddf82be-3228-4761-8952-c7b8ccb01ee6"
   },
   "outputs": [
    {
     "data": {
      "image/png": "[encoded data removed]",
      "text/plain": [
       "<Figure size 432x288 with 1 Axes>"
      ]
     },
     "metadata": {
      "needs_background": "light"
     },
     "output_type": "display_data"
    }
   ],
   "source": [
    "import matplotlib.pyplot as plt\n",
    "plt.plot(range(1, 11), wcss)\n",
    "plt.xlabel('Number of Clusters')\n",
    "plt.ylabel('WCSS')\n",
    "plt.show()"
   ]
  },
  {
   "cell_type": "code",
   "execution_count": 11,
   "metadata": {
    "id": "AeWxPNzx8--w"
   },
   "outputs": [],
   "source": [
    "k = 3\n",
    "kmeans = KMeans(n_clusters = k, init = 'k-means++', random_state = 42)\n",
    "kmeans.fit(X_train_tfidf)\n",
    "\n",
    "\n",
    "cluster_map = pd.DataFrame()\n",
    "cluster_map['tweets'] = delta_tweets['text']\n",
    "cluster_map['sentiment'] = delta_tweets['airline_sentiment']\n",
    "cluster_map['cluster'] = kmeans.labels_"
   ]
  },
  {
   "cell_type": "code",
   "execution_count": 12,
   "metadata": {
    "colab": {
     "base_uri": "https://localhost:8080/",
     "height": 265
    },
    "executionInfo": {
     "elapsed": 1529,
     "status": "ok",
     "timestamp": 1638914074828,
     "user": {
      "displayName": "Shaun Guyette",
      "photoUrl": "https://lh3.googleusercontent.com/a/default-user=s64",
      "userId": "10370106309607372539"
     },
     "user_tz": 360
    },
    "id": "CLuNy7rt1_mI",
    "outputId": "c4591c17-2c73-4024-e7d0-f5fedf08efe7"
   },
   "outputs": [
    {
     "data": {
      "image/png": "[encoded data removed]",
      "text/plain": [
       "<Figure size 432x288 with 1 Axes>"
      ]
     },
     "metadata": {
      "needs_background": "light"
     },
     "output_type": "display_data"
    }
   ],
   "source": [
    "from sklearn.decomposition import PCA\n",
    "pca = PCA(n_components = 2, random_state = 42)\n",
    "reduced_features = pca.fit_transform(X_train_tfidf.toarray())\n",
    "reduced_cluster_centers = pca.transform(kmeans.cluster_centers_)\n",
    "\n",
    "plt.scatter(reduced_features[:,0], reduced_features[:,1], c=kmeans.predict(X_train_tfidf))\n",
    "plt.scatter(reduced_cluster_centers[:,0], reduced_cluster_centers[:,1], marker='x', s=150, c='b')\n",
    "plt.show()"
   ]
  },
  {
   "cell_type": "code",
   "execution_count": 13,
   "metadata": {
    "colab": {
     "base_uri": "https://localhost:8080/"
    },
    "executionInfo": {
     "elapsed": 457,
     "status": "ok",
     "timestamp": 1638914077594,
     "user": {
      "displayName": "Shaun Guyette",
      "photoUrl": "https://lh3.googleusercontent.com/a/default-user=s64",
      "userId": "10370106309607372539"
     },
     "user_tz": 360
    },
    "id": "ME2vCWbXhig5",
    "outputId": "a0974579-5f89-4ea1-d17f-bb6cc48de086"
   },
   "outputs": [
    {
     "name": "stdout",
     "output_type": "stream",
     "text": [
      "Cluster 1: \n",
      "neutral, @JetBlue or she ;)\n",
      "neutral, @JetBlue @BucketObolts Same\n",
      "neutral, @JetBlue  will do.\n",
      "negative, @JetBlue well, now saying our flight is going to be Cancelled Flighted &amp; that by not changing earlier, we missed our chance to get out tomorrow. 1/2\n",
      "negative, @JetBlue flight for tomorrow morning Cancelled Flighted &amp; can't seem to rebook me. They can't even get me a seat. No clear answer on why Cancelled Flighted.\n",
      "negative, @JetBlue - trying to fly from BOS to JFK. Flight delayed. Traveling with kids. Book a hotel or are we getting out tonight?\n",
      "negative, @JetBlue Cancelled Flighted my flight. Went with another airline 2 leave 2day. They Cancelled Flighted also. Called JetBlue &amp; got same flight but now $250 more👺\n",
      "neutral, @JetBlue A month ago I had a flight booked but then had to Cancelled Flight it... I'm now Flight Booking Problems a separate flight for a different occasion.\n",
      "negative, @JetBlue I can't do that flight. I need a Late Flightr one! I need you to change my flight. You guys changed it and now I can't do that time!\n",
      "negative, @JetBlue yes, 3 times. I need some one to call me and help me change a flight. I can't do online. Thanks.\n",
      "\n",
      "\n",
      "Cluster 2: \n",
      "negative, “@JetBlue: Our fleet's on fleek. http://t.co/vw2v8GVnGq” 😐😑\n",
      "neutral, Who did this?!?!“@JetBlue: Our fleet's on fleek. http://t.co/kHZrCCyp2A”\n",
      "neutral, NO“@JetBlue: Our fleet's on fleek. http://t.co/UgFCKErmrW”\n",
      "neutral, “@JetBlue: Our fleet's on fleek. http://t.co/cRFrwpc1Sx”😂😂😂\n",
      "neutral, “@JetBlue: Our fleet's on fleek. http://t.co/CXTTxV2lMP” 😒\n",
      "neutral, “@JetBlue: Our fleet's on fleek. http://t.co/FVYzjLDTON” 🚶🚶🚶🚶\n",
      "neutral, “@JetBlue: Our fleet's on fleek. http://t.co/XX5QSCjlL1” @BrandsSayingBae #Freberg15\n",
      "neutral, “@JetBlue: Our fleet's on fleek. http://t.co/b5ttno68xu” I just 🙈\n",
      "neutral, “@JetBlue: Our fleet's on fleek. http://t.co/aJM3BhJVaa” #foh\n",
      "positive, Why “@JetBlue: Our fleet's on fleek. http://t.co/a7NvbJ8ipx”\n",
      "\n",
      "\n",
      "Cluster 3: \n",
      "neutral, @JetBlue  will do.\n",
      "neutral, @JetBlue @BucketObolts Same\n",
      "neutral, @JetBlue or she ;)\n",
      "positive, @JetBlue thank you\n",
      "positive, @JetBlue thanks!\n",
      "neutral, @JetBlue Thank you.\n",
      "positive, @JetBlue thanks!\n",
      "positive, @JetBlue thank you!!\n",
      "positive, @JetBlue thank you :-)\n",
      "positive, @JetBlue thanks!\n",
      "\n",
      "\n"
     ]
    }
   ],
   "source": [
    "for i in range(0,k):\n",
    "    d = kmeans.transform(X_train_tfidf)[:, i]\n",
    "    ind = np.argsort(d)[::][:10]\n",
    "    # print(ind)\n",
    "    print(\"Cluster \" + str(i + 1) + \": \")\n",
    "    for j in range(0, 10):\n",
    "        print(delta_tweets.iloc[ind[j], 1] + \", \" + delta_tweets.iloc[ind[j], 10])\n",
    "    print(\"\\n\")"
   ]
  }
 ],
 "metadata": {
  "colab": {
   "authorship_tag": "ABX9TyNs2uMAHBekF3mFyuFbFI0k",
   "collapsed_sections": [],
   "name": "ml_clustering.ipynb",
   "provenance": []
  },
  "kernelspec": {
   "display_name": "Python 3",
   "language": "python",
   "name": "python3"
  },
  "language_info": {
   "codemirror_mode": {
    "name": "ipython",
    "version": 3
   },
   "file_extension": ".py",
   "mimetype": "text/x-python",
   "name": "python",
   "nbconvert_exporter": "python",
   "pygments_lexer": "ipython3",
   "version": "3.8.8"
  }
 },
 "nbformat": 4,
 "nbformat_minor": 1
}
